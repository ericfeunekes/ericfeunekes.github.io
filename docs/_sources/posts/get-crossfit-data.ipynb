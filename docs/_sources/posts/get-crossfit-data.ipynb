{
 "cells": [
  {
   "cell_type": "markdown",
   "metadata": {},
   "source": [
    "# Grabbing CrossFit competition data\n",
    "\n",
    "This notebook will show you how I grabbed the data on all CrossFit competitions going back to 2011 through unpublished APIs provided by Crossfit"
   ]
  },
  {
   "cell_type": "markdown",
   "metadata": {},
   "source": []
  }
 ],
 "metadata": {
  "kernelspec": {
   "display_name": "Python 3.10.6 ('blog-_2HahI4a-py3.10')",
   "language": "python",
   "name": "python3"
  },
  "language_info": {
   "name": "python",
   "version": "3.10.6"
  },
  "orig_nbformat": 4,
  "vscode": {
   "interpreter": {
    "hash": "278e0f9d800810583378790ddcb77e3e94ffa213b1240cf6fd0cb0cefd3d0cc7"
   }
  }
 },
 "nbformat": 4,
 "nbformat_minor": 2
}
