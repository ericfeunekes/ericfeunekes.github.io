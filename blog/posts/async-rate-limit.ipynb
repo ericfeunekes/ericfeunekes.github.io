{
 "cells": [
  {
   "cell_type": "markdown",
   "metadata": {},
   "source": [
    "# Rate limiting in async code\n",
    "\n",
    "This post describes three ways to rate limit async code in a way that optimizes for throughput and latency. The first two methods use native asyncio primitives, while the third uses aiochan, a third-party library that is meant to provide functionality similar to channels in Go."
   ]
  },
  {
   "cell_type": "markdown",
   "metadata": {},
   "source": [
    "## Definitions\n",
    "\n",
    "A few definitions to set the context for this post:\n",
    "\n",
    "- \"rate limit\" means to limit the number of operations per period\n",
    "- \"operations\" is the number of times a function is called in a given period\n",
    "- \"period\" is the time window in which the number of operations is limited\n",
    "\n",
    "## Setup\n",
    "\n",
    "Typically, rate limiting is used in the context of a web server. For this post, I'll use a function that returns a timestamp to mock the request to the server. I'll also have that function sleep for a random amount of time to simulate the work that the server is doing."
   ]
  },
  {
   "cell_type": "code",
   "execution_count": 14,
   "metadata": {},
   "outputs": [],
   "source": [
    "import asyncio\n",
    "\n",
    "import httpx\n",
    "import pendulum as pdl\n",
    "from contextlib import asynccontextmanager\n",
    "import time\n",
    "import pandas as pd"
   ]
  },
  {
   "cell_type": "code",
   "execution_count": 16,
   "metadata": {},
   "outputs": [],
   "source": [
    "def now():\n",
    "    return int(pdl.now().format(\"x\"))\n",
    "\n",
    "async def server():\n",
    "    return now()"
   ]
  },
  {
   "cell_type": "code",
   "execution_count": 17,
   "metadata": {},
   "outputs": [],
   "source": [
    "times = []\n",
    "for i in range(10):\n",
    "    for i in range(10):\n",
    "        start = now()\n",
    "        httpx.get('http://httpbin.org/get')\n",
    "        times.append(now() - start)\n",
    "    time.sleep(1)\n",
    "\n",
    "times_per_request = pd.Series(times)"
   ]
  },
  {
   "cell_type": "code",
   "execution_count": 19,
   "metadata": {},
   "outputs": [
    {
     "data": {
      "text/plain": [
       "<AxesSubplot: >"
      ]
     },
     "execution_count": 19,
     "metadata": {},
     "output_type": "execute_result"
    },
    {
     "data": {
      "image/png": "[encoded data removed]",
      "text/plain": [
       "<Figure size 640x480 with 1 Axes>"
      ]
     },
     "metadata": {},
     "output_type": "display_data"
    }
   ],
   "source": [
    "times_per_request.hist()"
   ]
  },
  {
   "cell_type": "markdown",
   "metadata": {},
   "source": [
    "## Method 1: simple semaphore context manager\n",
    "\n",
    "This is the simplest way to rate limit async code. It uses a semaphore to limit the number of concurrent tasks, and a context manager to ensure that the semaphore is released when the task is done. At the end of each task, the context manager sleeps for the required period before releasing the semaphore."
   ]
  },
  {
   "cell_type": "code",
   "execution_count": 10,
   "metadata": {},
   "outputs": [],
   "source": [
    "\n",
    "def create_simple_rate_limiter(max_requests, period):\n",
    "    \"\"\"Create a rate limiter that limits the number of requests to `max_requests` per `period` seconds.\"\"\"\n",
    "    sem =  asyncio.Semaphore(max_requests)\n",
    "\n",
    "    @asynccontextmanager\n",
    "    async def rate_limiter():\n",
    "        try:\n",
    "            await sem.acquire()\n",
    "            yield\n",
    "        finally:\n",
    "            asyncio.sleep(period)\n",
    "            sem.release()\n",
    "    return rate_limiter\n",
    "\n",
    "    "
   ]
  },
  {
   "cell_type": "code",
   "execution_count": 9,
   "metadata": {},
   "outputs": [],
   "source": [
    "simple_limiter = create_simple_rate_limiter(5, 1)"
   ]
  },
  {
   "cell_type": "code",
   "execution_count": null,
   "metadata": {},
   "outputs": [],
   "source": [
    "times = []\n",
    "for i in range(10):\n",
    "    row = [i, pdl.]\n",
    "    async with simple_limiter():\n",
    "        times.append(await server())"
   ]
  }
 ],
 "metadata": {
  "kernelspec": {
   "display_name": "Python 3.10.6 ('ericfeunekes-github-io-_2HahI4a-py3.10')",
   "language": "python",
   "name": "python3"
  },
  "language_info": {
   "codemirror_mode": {
    "name": "ipython",
    "version": 3
   },
   "file_extension": ".py",
   "mimetype": "text/x-python",
   "name": "python",
   "nbconvert_exporter": "python",
   "pygments_lexer": "ipython3",
   "version": "3.10.6"
  },
  "orig_nbformat": 4,
  "vscode": {
   "interpreter": {
    "hash": "3acecfebae9cb0898bfbed9ec0ae79c5b665aab75d8f45535aa9f1c761ab47ee"
   }
  }
 },
 "nbformat": 4,
 "nbformat_minor": 2
}
