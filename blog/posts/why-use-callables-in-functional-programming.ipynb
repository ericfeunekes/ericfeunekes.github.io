{
 "cells": [
  {
   "cell_type": "code",
   "execution_count": 6,
   "metadata": {},
   "outputs": [],
   "source": [
    "import httpx\n",
    "import asyncio\n",
    "from typing import Dict, Any\n",
    "from pydantic import BaseModel"
   ]
  },
  {
   "cell_type": "markdown",
   "metadata": {},
   "source": [
    "# Why use callables in Functional Programming?\n",
    "\n",
    "The more I learn about Functional Programming (**FP**) the more I like it. I find it much code written in a more FP style much easier to debug and undertand. This post discusses something I first learned about in [Grokking Simplicity](): passing callables to a function, rather than calling the sub-function directly. I didn't understand why passing the callable is a much better approach, until I came across it myself.\n",
    "\n",
    "TLDR: it's more modular, and easier to test.\n",
    "\n",
    "To better explain, in my case I have a function to make a `GET` request and return the response and another function for error handling. Initially, here are those two functions."
   ]
  },
  {
   "cell_type": "code",
   "execution_count": 9,
   "metadata": {},
   "outputs": [],
   "source": [
    "from typing import TypedDict\n",
    "\n",
    "\n",
    "async def get_url(\n",
    "    url: str, client: httpx.AsyncClient, limiter: asyncio.Semaphore = None\n",
    ") -> httpx.Response:\n",
    "    \"\"\"Send and async request to the given URL using the client\n",
    "\n",
    "    Allows for the optimal use of a Semaphore to restrict simultaneous Async calls.\n",
    "\n",
    "    Parameters\n",
    "    ---------\n",
    "    url : str\n",
    "        the url to get\n",
    "    client : httpx.AsyncClient\n",
    "        the httpx client to use for the call\n",
    "    limiter : asyncio.Semaphore\n",
    "        the Semaphore instance to use. Optional\n",
    "    \n",
    "    Returns\n",
    "    -------\n",
    "    httpx.Response\n",
    "        the reponse object from the `url`\n",
    "    \"\"\"\n",
    "    assert isinstance(client, httpx.AsyncClient)\n",
    "    \"`client` must be an httpx.AsyncClient\"\n",
    "    if not limiter:\n",
    "        response = await client.get(url)\n",
    "    else:\n",
    "        async with limiter:\n",
    "            response = await client.get(url)\n",
    "    response.raise_for_status()\n",
    "    return response\n",
    "\n",
    "class GetterArgs(TypedDict):\n",
    "    url: str\n",
    "    client: httpx.AsyncClient\n",
    "    limiter: asyncio.Semaphore | None\n",
    "\n",
    "async def get_response(\n",
    "    getter_args: GetterArgs,\n",
    "    retries: int = 10,\n",
    ") -> httpx.Response:\n",
    "    ''''''\n",
    "\n",
    "    try:\n",
    "        response: httpx.Response = await get_url(**getter_args)\n",
    "    except httpx.HTTPStatusError as e:\n",
    "        code = response.status_code\n",
    "        if code == 429 or (code >= 100 and code < 200):\n",
    "            if \"try_count\" not in locals():\n",
    "                try_count = 1\n",
    "            else:\n",
    "                try_count += 1\n",
    "            if try_count >= retries and retries >= 0:\n",
    "                print(\"Max retries exceeded for 429 error\")\n",
    "                raise e\n",
    "            response = await get_url(**getter_args)\n",
    "        else:\n",
    "            raise e\n",
    "        # TODO: account for other error codes; e.g. redirections\n",
    "    return response\n"
   ]
  },
  {
   "cell_type": "markdown",
   "metadata": {},
   "source": [
    "You can see that I've defined `get_url` and `get_reponse`. I call `get_url` from `get_response` and this approach works just fine."
   ]
  },
  {
   "cell_type": "code",
   "execution_count": 28,
   "metadata": {},
   "outputs": [
    {
     "name": "stdout",
     "output_type": "stream",
     "text": [
      "Success\n"
     ]
    }
   ],
   "source": [
    "async with httpx.AsyncClient() as client:\n",
    "    getter_args = GetterArgs(\n",
    "        url='http://httpbin.org/get',\n",
    "        client=client\n",
    "    )\n",
    "    response = await get_response(getter_args=getter_args)\n",
    "assert response.status_code == 200\n",
    "print('Success')"
   ]
  },
  {
   "cell_type": "markdown",
   "metadata": {},
   "source": [
    "Exactly as intended. The tricky part is testing `get_response`. "
   ]
  },
  {
   "cell_type": "code",
   "execution_count": null,
   "metadata": {},
   "outputs": [],
   "source": []
  }
 ],
 "metadata": {
  "kernelspec": {
   "display_name": "Python 3.10.6 ('ericfeunekes-github-io-_2HahI4a-py3.10')",
   "language": "python",
   "name": "python3"
  },
  "language_info": {
   "codemirror_mode": {
    "name": "ipython",
    "version": 3
   },
   "file_extension": ".py",
   "mimetype": "text/x-python",
   "name": "python",
   "nbconvert_exporter": "python",
   "pygments_lexer": "ipython3",
   "version": "3.10.6"
  },
  "orig_nbformat": 4,
  "vscode": {
   "interpreter": {
    "hash": "dfc095b5af8863068890ddfde9bef4c66f849310f3c0f5ef780cbd17c3fdc80f"
   }
  }
 },
 "nbformat": 4,
 "nbformat_minor": 2
}
