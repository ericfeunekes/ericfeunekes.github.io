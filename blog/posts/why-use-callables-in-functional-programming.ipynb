{
 "cells": [
  {
   "cell_type": "code",
   "execution_count": null,
   "metadata": {},
   "outputs": [],
   "source": []
  }
 ],
 "metadata": {
  "kernelspec": {
   "display_name": "Python 3.10.6 ('ericfeunekes-github-io-_2HahI4a-py3.10')",
   "language": "python",
   "name": "python3"
  },
  "language_info": {
   "name": "python",
   "version": "3.10.6"
  },
  "orig_nbformat": 4,
  "vscode": {
   "interpreter": {
    "hash": "dfc095b5af8863068890ddfde9bef4c66f849310f3c0f5ef780cbd17c3fdc80f"
   }
  }
 },
 "nbformat": 4,
 "nbformat_minor": 2
}
