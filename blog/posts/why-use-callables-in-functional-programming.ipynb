{
 "cells": [
  {
   "cell_type": "code",
   "execution_count": 4,
   "metadata": {
    "tags": [
     "remove-cell"
    ]
   },
   "outputs": [],
   "source": [
    "import httpx\n",
    "import asyncio\n",
    "from typing import Dict, Any, TypedDict, Callable"
   ]
  },
  {
   "cell_type": "markdown",
   "metadata": {},
   "source": [
    "# Why use callables in Functional Programming?\n",
    "\n",
    "The more I learn about Functional Programming (**FP**) the more I like it. I find it much code written in a more FP style much easier to debug and undertand. This post discusses something I first learned about in [Grokking Simplicity](https://learning.oreilly.com/library/view/grokking-simplicity/9781617296208/): passing callables to a function, rather than calling the sub-function directly. I didn't understand why passing the callable is a much better approach, until I came across it myself.\n",
    "\n",
    "TLDR: it's more modular, and easier to test.\n",
    "\n",
    "To better explain, in my case I have a function to make a `GET` request and return the response and another function for error handling. Initially, here are those two functions."
   ]
  },
  {
   "cell_type": "code",
   "execution_count": 2,
   "metadata": {},
   "outputs": [],
   "source": [
    "async def get_url(\n",
    "    url: str, client: httpx.AsyncClient, limiter: asyncio.Semaphore = None\n",
    ") -> httpx.Response:\n",
    "    \"\"\"Send and async request to the given URL using the client\n",
    "\n",
    "    Allows for the optimal use of a Semaphore to restrict simultaneous Async calls.\n",
    "\n",
    "    Parameters\n",
    "    ---------\n",
    "    url : str\n",
    "        the url to get\n",
    "    client : httpx.AsyncClient\n",
    "        the httpx client to use for the call\n",
    "    limiter : asyncio.Semaphore\n",
    "        the Semaphore instance to use. Optional\n",
    "    \n",
    "    Returns\n",
    "    -------\n",
    "    httpx.Response\n",
    "        the reponse object from the `url`\n",
    "    \"\"\"\n",
    "    assert isinstance(client, httpx.AsyncClient)\n",
    "    \"`client` must be an httpx.AsyncClient\"\n",
    "    if not limiter:\n",
    "        response = await client.get(url)\n",
    "    else:\n",
    "        async with limiter:\n",
    "            response = await client.get(url)\n",
    "    response.raise_for_status()\n",
    "    return response\n",
    "\n",
    "class GetterArgs(TypedDict):\n",
    "    url: str\n",
    "    client: httpx.AsyncClient\n",
    "    limiter: asyncio.Semaphore | None\n",
    "\n",
    "async def get_response(\n",
    "    getter_args: GetterArgs,\n",
    "    retries: int = 10,\n",
    ") -> httpx.Response:\n",
    "    '''Handles errors that are returned from `get_url`\n",
    "    \n",
    "    Parameters\n",
    "    ----------\n",
    "    getter_args : GetterArgs\n",
    "        the arguments to be passed to `get_url`\n",
    "    retries : int\n",
    "        the number of times to retry a call, for calls that should be retried\n",
    "\n",
    "    Returns\n",
    "    -------\n",
    "    httpx.Response\n",
    "        the response from the url\n",
    "    '''\n",
    "\n",
    "    try:\n",
    "        response: httpx.Response = await get_url(**getter_args)\n",
    "    except httpx.HTTPStatusError as e:\n",
    "        code = response.status_code\n",
    "        if code == 429 or (code >= 100 and code < 200):\n",
    "            if \"try_count\" not in locals():\n",
    "                try_count = 1\n",
    "            else:\n",
    "                try_count += 1\n",
    "            if try_count >= retries and retries >= 0:\n",
    "                print(\"Max retries exceeded for 429 error\")\n",
    "                raise e\n",
    "            response = await get_url(**getter_args)\n",
    "        else:\n",
    "            raise e\n",
    "        # TODO: account for other error codes; e.g. redirections\n",
    "    return response\n"
   ]
  },
  {
   "cell_type": "markdown",
   "metadata": {},
   "source": [
    "You can see that I've defined `get_url` and `get_reponse`. I call `get_url` from `get_response` and this approach works just fine."
   ]
  },
  {
   "cell_type": "code",
   "execution_count": 3,
   "metadata": {},
   "outputs": [
    {
     "name": "stdout",
     "output_type": "stream",
     "text": [
      "Success\n"
     ]
    }
   ],
   "source": [
    "async with httpx.AsyncClient() as client:\n",
    "    getter_args = GetterArgs(\n",
    "        url='http://httpbin.org/get',\n",
    "        client=client\n",
    "    )\n",
    "    response = await get_response(getter_args=getter_args)\n",
    "assert response.status_code == 200\n",
    "print('Success')"
   ]
  },
  {
   "cell_type": "markdown",
   "metadata": {},
   "source": [
    "Exactly as intended. The tricky part is testing `get_response`. Among other things, I wanted to test whether a 429 error would cause `get_response` to retry the correct number of times. As it stands, I could mock a new function to replace `get_url`, which would likely achieve my goal. But it would be much cleaner to abstract the call to `get_url` by passing the function to `get_response` as an argument."
   ]
  },
  {
   "cell_type": "code",
   "execution_count": 5,
   "metadata": {},
   "outputs": [],
   "source": [
    "async def get_response(\n",
    "    getter: Callable,\n",
    "    getter_args: GetterArgs,\n",
    "    retries: int = 10,\n",
    ") -> httpx.Response:\n",
    "    '''Handles errors that are returned from `get_url`\n",
    "    \n",
    "    Parameters\n",
    "    ----------\n",
    "    getter : Callable\n",
    "        the function to use to get the data\n",
    "    getter_args : GetterArgs\n",
    "        the arguments to be passed to `get_url`\n",
    "    retries : int\n",
    "        the number of times to retry a call, for calls that should be retried\n",
    "\n",
    "    Returns\n",
    "    -------\n",
    "    httpx.Response\n",
    "        the response from the url\n",
    "    '''\n",
    "    try:\n",
    "        response: httpx.Response = await getter(**getter_args)\n",
    "    except httpx.HTTPStatusError as e:\n",
    "        code = response.status_code\n",
    "        if code == 429 or (code >= 100 and code < 200):\n",
    "            if \"try_count\" not in locals():\n",
    "                try_count = 1\n",
    "            else:\n",
    "                try_count += 1\n",
    "            if try_count >= retries and retries >= 0:\n",
    "                print(\"Max retries exceeded for 429 error\")\n",
    "                raise e\n",
    "            response = await getter(**getter_args)\n",
    "        else:\n",
    "            raise e\n",
    "        # TODO: account for other error codes; e.g. redirections\n",
    "    return response"
   ]
  },
  {
   "cell_type": "markdown",
   "metadata": {},
   "source": [
    "This code follows FP principles much better because it is composable and is independent from the getter. In addition to being easier to test, `get_response` won't be affected by changes to the getter function name or arguments. The only requirement is that the getter implements the correct interface."
   ]
  },
  {
   "cell_type": "code",
   "execution_count": 39,
   "metadata": {},
   "outputs": [],
   "source": [
    "# Define a function to replace `get_url`\n",
    "class MockGetter:\n",
    "\n",
    "    def __init__(self) -> None:\n",
    "        self.count_retries = 0\n",
    "        \n",
    "    def getter(self): \n",
    "        self.count_retries += 1\n",
    "        resp = httpx.get('http://httpbin.org/status/429')\n",
    "        resp.raise_for_status()"
   ]
  },
  {
   "cell_type": "code",
   "execution_count": 40,
   "metadata": {},
   "outputs": [
    {
     "name": "stderr",
     "output_type": "stream",
     "text": [
      "/tmp/ipykernel_2802/1025198436.py:4: RuntimeWarning: coroutine 'get_response' was never awaited\n",
      "  get_response(getter=mg.getter, getter_args={}, retries=retries)\n",
      "RuntimeWarning: Enable tracemalloc to get the object allocation traceback\n"
     ]
    },
    {
     "ename": "AssertionError",
     "evalue": "There should have been 10 retries, but there were 0",
     "output_type": "error",
     "traceback": [
      "\u001b[0;31m---------------------------------------------------------------------------\u001b[0m",
      "\u001b[0;31mAssertionError\u001b[0m                            Traceback (most recent call last)",
      "Cell \u001b[0;32mIn [40], line 7\u001b[0m\n\u001b[1;32m      4\u001b[0m     get_response(getter\u001b[38;5;241m=\u001b[39mmg\u001b[38;5;241m.\u001b[39mgetter, getter_args\u001b[38;5;241m=\u001b[39m{}, retries\u001b[38;5;241m=\u001b[39mretries)\n\u001b[1;32m      5\u001b[0m     \u001b[38;5;28;01massert\u001b[39;00m mg\u001b[38;5;241m.\u001b[39mcount_retries \u001b[38;5;241m==\u001b[39m retries, \u001b[38;5;124mf\u001b[39m\u001b[38;5;124m\"\u001b[39m\u001b[38;5;124mThere should have been \u001b[39m\u001b[38;5;132;01m{\u001b[39;00mretries\u001b[38;5;132;01m}\u001b[39;00m\u001b[38;5;124m retries, but there were \u001b[39m\u001b[38;5;132;01m{\u001b[39;00mmg\u001b[38;5;241m.\u001b[39mcount_retries\u001b[38;5;132;01m}\u001b[39;00m\u001b[38;5;124m\"\u001b[39m\n\u001b[0;32m----> 7\u001b[0m \u001b[43mtest_429_error\u001b[49m\u001b[43m(\u001b[49m\u001b[43m)\u001b[49m\n",
      "Cell \u001b[0;32mIn [40], line 5\u001b[0m, in \u001b[0;36mtest_429_error\u001b[0;34m()\u001b[0m\n\u001b[1;32m      3\u001b[0m retries \u001b[38;5;241m=\u001b[39m \u001b[38;5;241m10\u001b[39m\n\u001b[1;32m      4\u001b[0m get_response(getter\u001b[38;5;241m=\u001b[39mmg\u001b[38;5;241m.\u001b[39mgetter, getter_args\u001b[38;5;241m=\u001b[39m{}, retries\u001b[38;5;241m=\u001b[39mretries)\n\u001b[0;32m----> 5\u001b[0m \u001b[38;5;28;01massert\u001b[39;00m mg\u001b[38;5;241m.\u001b[39mcount_retries \u001b[38;5;241m==\u001b[39m retries, \u001b[38;5;124mf\u001b[39m\u001b[38;5;124m\"\u001b[39m\u001b[38;5;124mThere should have been \u001b[39m\u001b[38;5;132;01m{\u001b[39;00mretries\u001b[38;5;132;01m}\u001b[39;00m\u001b[38;5;124m retries, but there were \u001b[39m\u001b[38;5;132;01m{\u001b[39;00mmg\u001b[38;5;241m.\u001b[39mcount_retries\u001b[38;5;132;01m}\u001b[39;00m\u001b[38;5;124m\"\u001b[39m\n",
      "\u001b[0;31mAssertionError\u001b[0m: There should have been 10 retries, but there were 0"
     ]
    }
   ],
   "source": [
    "def test_429_error():\n",
    "    mg = MockGetter()\n",
    "    retries = 10\n",
    "    get_response(getter=mg.getter, getter_args={}, retries=retries)\n",
    "    assert mg.count_retries == retries, f\"There should have been {retries} retries, but there were {mg.count_retries}\"\n",
    "\n",
    "test_429_error()"
   ]
  },
  {
   "cell_type": "code",
   "execution_count": 41,
   "metadata": {},
   "outputs": [],
   "source": [
    "mg = MockGetter()"
   ]
  },
  {
   "cell_type": "code",
   "execution_count": 42,
   "metadata": {},
   "outputs": [
    {
     "ename": "HTTPStatusError",
     "evalue": "Client error '429 TOO MANY REQUESTS' for url 'http://httpbin.org/status/429'\nFor more information check: https://httpstatuses.com/429",
     "output_type": "error",
     "traceback": [
      "\u001b[0;31m---------------------------------------------------------------------------\u001b[0m",
      "\u001b[0;31mHTTPStatusError\u001b[0m                           Traceback (most recent call last)",
      "Cell \u001b[0;32mIn [42], line 1\u001b[0m\n\u001b[0;32m----> 1\u001b[0m \u001b[43mmg\u001b[49m\u001b[38;5;241;43m.\u001b[39;49m\u001b[43mgetter\u001b[49m\u001b[43m(\u001b[49m\u001b[43m)\u001b[49m\n",
      "Cell \u001b[0;32mIn [39], line 10\u001b[0m, in \u001b[0;36mMockGetter.getter\u001b[0;34m(self)\u001b[0m\n\u001b[1;32m      8\u001b[0m \u001b[38;5;28mself\u001b[39m\u001b[38;5;241m.\u001b[39mcount_retries \u001b[38;5;241m+\u001b[39m\u001b[38;5;241m=\u001b[39m \u001b[38;5;241m1\u001b[39m\n\u001b[1;32m      9\u001b[0m resp \u001b[38;5;241m=\u001b[39m httpx\u001b[38;5;241m.\u001b[39mget(\u001b[38;5;124m'\u001b[39m\u001b[38;5;124mhttp://httpbin.org/status/429\u001b[39m\u001b[38;5;124m'\u001b[39m)\n\u001b[0;32m---> 10\u001b[0m \u001b[43mresp\u001b[49m\u001b[38;5;241;43m.\u001b[39;49m\u001b[43mraise_for_status\u001b[49m\u001b[43m(\u001b[49m\u001b[43m)\u001b[49m\n",
      "File \u001b[0;32m~/.cache/pypoetry/virtualenvs/ericfeunekes-github-io-_2HahI4a-py3.10/lib/python3.10/site-packages/httpx/_models.py:736\u001b[0m, in \u001b[0;36mResponse.raise_for_status\u001b[0;34m(self)\u001b[0m\n\u001b[1;32m    734\u001b[0m error_type \u001b[39m=\u001b[39m error_types\u001b[39m.\u001b[39mget(status_class, \u001b[39m\"\u001b[39m\u001b[39mInvalid status code\u001b[39m\u001b[39m\"\u001b[39m)\n\u001b[1;32m    735\u001b[0m message \u001b[39m=\u001b[39m message\u001b[39m.\u001b[39mformat(\u001b[39mself\u001b[39m, error_type\u001b[39m=\u001b[39merror_type)\n\u001b[0;32m--> 736\u001b[0m \u001b[39mraise\u001b[39;00m HTTPStatusError(message, request\u001b[39m=\u001b[39mrequest, response\u001b[39m=\u001b[39m\u001b[39mself\u001b[39m)\n",
      "\u001b[0;31mHTTPStatusError\u001b[0m: Client error '429 TOO MANY REQUESTS' for url 'http://httpbin.org/status/429'\nFor more information check: https://httpstatuses.com/429"
     ]
    }
   ],
   "source": [
    "mg.getter()"
   ]
  },
  {
   "cell_type": "code",
   "execution_count": null,
   "metadata": {},
   "outputs": [],
   "source": []
  }
 ],
 "metadata": {
  "kernelspec": {
   "display_name": "Python 3.10.6 ('ericfeunekes-github-io-_2HahI4a-py3.10')",
   "language": "python",
   "name": "python3"
  },
  "language_info": {
   "codemirror_mode": {
    "name": "ipython",
    "version": 3
   },
   "file_extension": ".py",
   "mimetype": "text/x-python",
   "name": "python",
   "nbconvert_exporter": "python",
   "pygments_lexer": "ipython3",
   "version": "3.10.6"
  },
  "orig_nbformat": 4,
  "vscode": {
   "interpreter": {
    "hash": "dfc095b5af8863068890ddfde9bef4c66f849310f3c0f5ef780cbd17c3fdc80f"
   }
  }
 },
 "nbformat": 4,
 "nbformat_minor": 2
}
